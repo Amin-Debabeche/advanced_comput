{
 "cells": [
  {
   "cell_type": "code",
   "execution_count": null,
   "id": "64454fc0",
   "metadata": {},
   "outputs": [],
   "source": [
    "import pandas as pd\n",
    "import numpy as np\n",
    "import matplotlib.pyplot as plt\n",
    "import random\n",
    "import math"
   ]
  },
  {
   "cell_type": "code",
   "execution_count": null,
   "id": "b9c9bc36",
   "metadata": {},
   "outputs": [],
   "source": [
    "MAX_COMPARTMENTS=1000\n",
    "MAX_PARTICLES=1000\n",
    "CycleMultiplication=1000\n",
    "\n",
    "def fc(x):\n",
    "    return math.factorial(x)\n",
    "\n",
    "def lg(x):\n",
    "    return np.log(x)"
   ]
  },
  {
   "cell_type": "code",
   "execution_count": null,
   "id": "c692ab38",
   "metadata": {},
   "outputs": [],
   "source": [
    "N = int(input(\"Number of Particles N? \"))\n",
    "P = int(input(\"Number of Compartments p? \"))\n",
    "Ncycle = int(input(\"Number of Cycles NCycles? \"))\n",
    "\n",
    "if N < 2 or P < 2 or P > MAX_COMPARTMENTS or N > MAX_PARTICLES:\n",
    "    print(\"Error in input parameters\\n\")\n",
    "    exit()\n",
    "\n",
    "NumInComp = np.zeros((Ncycle, P))\n",
    "Analytical = [0]*P\n",
    "\n",
    "for l in range(Ncycle):\n",
    "    for i in range(N):\n",
    "        j = random.randint(0, P-1)\n",
    "        NumInComp[l][j] += 1\n",
    "\n",
    "NumInComp = [x / (N*Ncycle) for x in sum(NumInComp)]\n",
    "\n",
    "for i in range(1,P):\n",
    "    Analytical[i-1] = np.exp(lg(fc(N)) - lg(fc(i)) - lg(fc(N-i)) - j*lg(P) - (N-i)*lg(P/(P-1)))"
   ]
  },
  {
   "cell_type": "code",
   "execution_count": null,
   "id": "8528c78d",
   "metadata": {},
   "outputs": [],
   "source": [
    "#Plotting\n",
    "fig = plt.figure(figsize=(15,15))\n",
    "plt.plot(NumInComp,range(1,N+1), label='computation')\n",
    "plt.plot(trials, re_comput , color='y', linestyle='-', label=\"theory\")\n",
    "plt.title(\"Relative error calculated with different n\",fontsize=25)\n",
    "plt.xlabel('Relative error estimated',fontsize=20)\n",
    "plt.ylabel('Relative error theoritical',fontsize=20)\n",
    "plt.legend(loc='best', frameon=True,fontsize=20)\n",
    "fig.show()\n",
    "fig.savefig('RE_different_n', dpi=300)\n"
   ]
  },
  {
   "cell_type": "code",
   "execution_count": null,
   "id": "0ea83d16",
   "metadata": {},
   "outputs": [],
   "source": [
    "plt.plot(range(1,P+1), NumInComp, label='computation')\n"
   ]
  },
  {
   "cell_type": "code",
   "execution_count": null,
   "id": "f5f4ffec",
   "metadata": {},
   "outputs": [],
   "source": [
    "plt.plot(range(1,P+1), Analytical, label='computation')\n"
   ]
  },
  {
   "cell_type": "markdown",
   "id": "47b61fa2",
   "metadata": {},
   "source": [
    "# Boltzmann Distribution"
   ]
  },
  {
   "cell_type": "code",
   "execution_count": null,
   "id": "7739f42a",
   "metadata": {},
   "outputs": [],
   "source": [
    "NumberOfEnergyLevels = int(input(\"NumberOfEnergyLevels ?\"))\n",
    "\n",
    "Temperature = [0.1, 1, 10, 100, 1000, 10000, 100000]\n",
    "\n",
    "Beta = [1/x for x in Temperature]\n",
    "tmp = []\n",
    "\n",
    "fig = plt.figure(figsize=(10,10))\n",
    "\n",
    "for b in Beta[:]:\n",
    "    for i in range(NumberOfEnergyLevels):\n",
    "        tmp.append(np.exp(-b*i))\n",
    "    Distribution = [x/sum(tmp) for x in tmp]\n",
    "    plt.plot(range(NumberOfEnergyLevels), Distribution, label=f\"T={round(1/b)}\")\n",
    "    Distribution = []\n",
    "    tmp = []\n",
    "\n",
    "plt.title(\"Boltzmann Distribution\",fontsize=25)\n",
    "plt.xlabel('Energy Levels',fontsize=20)\n",
    "plt.ylabel('Distribution',fontsize=20)\n",
    "plt.xlim([0, 35])\n",
    "plt.ylim([0, 0.4])\n",
    "plt.legend(loc='best', frameon=True,fontsize=20)\n",
    "fig.show()\n",
    "fig.savefig('../Images/boltzman_temp', dpi=300)\n",
    "    \n"
   ]
  },
  {
   "cell_type": "code",
   "execution_count": null,
   "id": "65d7b993",
   "metadata": {},
   "outputs": [],
   "source": [
    "temp = pd.read_csv(\"../Data/temperature.txt\")"
   ]
  },
  {
   "cell_type": "code",
   "execution_count": null,
   "id": "807a2460",
   "metadata": {},
   "outputs": [],
   "source": [
    "fig = plt.figure(figsize=(10,10))\n",
    "\n",
    "for i in temp.columns:\n",
    "    if i =='levels':\n",
    "        continue\n",
    "    plt.plot(temp.levels,temp[i], label=f\"T={i}\")\n",
    "\n",
    "plt.title(\"Boltzmann Distribution\",fontsize=25)\n",
    "plt.xlabel('Energy Levels',fontsize=20)\n",
    "plt.ylabel('Distribution',fontsize=20)\n",
    "plt.xlim([0, 35])\n",
    "plt.ylim([0, 0.4])\n",
    "plt.legend(loc='best', frameon=True,fontsize=20)\n",
    "fig.show()\n",
    "fig.savefig('../Images/boltzman_temp_2', dpi=300)"
   ]
  },
  {
   "cell_type": "markdown",
   "id": "248b5ef4",
   "metadata": {},
   "source": [
    "## Degeneracy"
   ]
  },
  {
   "cell_type": "code",
   "execution_count": null,
   "id": "d3542419",
   "metadata": {},
   "outputs": [],
   "source": [
    "NumberOfEnergyLevels = int(input(\"NumberOfEnergyLevels ?\"))\n",
    "\n",
    "Temperature = [0.1, 1, 10, 100, 1000, 10000, 100000]\n",
    "\n",
    "Beta = [1/x for x in Temperature]\n",
    "tmp = []\n",
    "\n",
    "fig = plt.figure(figsize=(10,10))\n",
    "\n",
    "for b in Beta[:]:\n",
    "    for i in range(NumberOfEnergyLevels):\n",
    "        tmp.append((i+1)*np.exp(-b*i))\n",
    "    Distribution = [x/sum(tmp) for x in tmp]\n",
    "    plt.plot(range(NumberOfEnergyLevels), Distribution, label=f\"T={round(1/b)}\")\n",
    "    Distribution = []\n",
    "    tmp = []\n",
    "\n",
    "plt.title(\"Boltzmann Distribution\",fontsize=25)\n",
    "plt.xlabel('Energy Levels',fontsize=20)\n",
    "plt.ylabel('Distribution',fontsize=20)\n",
    "plt.xlim([0, 35])\n",
    "plt.ylim([0, 0.4])\n",
    "plt.legend(loc='best', frameon=True,fontsize=20)\n",
    "fig.show()\n",
    "fig.savefig('../Images/boltzman_deg', dpi=300)"
   ]
  },
  {
   "cell_type": "markdown",
   "id": "bfe2d107",
   "metadata": {},
   "source": [
    "## Linear Rotor"
   ]
  },
  {
   "cell_type": "code",
   "execution_count": null,
   "id": "937ee465",
   "metadata": {},
   "outputs": [],
   "source": [
    "NumberOfEnergyLevels = int(input(\"NumberOfEnergyLevels ?\"))\n",
    "\n",
    "Temperature = [0.1, 1, 10, 100, 1000, 10000, 100000]\n",
    "\n",
    "Beta = [1/x for x in Temperature]\n",
    "tmp = []\n",
    "\n",
    "fig = plt.figure(figsize=(10,10))\n",
    "\n",
    "for b in Beta[:]:\n",
    "    for i in range(NumberOfEnergyLevels):\n",
    "        tmp.append((i+1)*np.exp(-b*i))\n",
    "    Distribution = [x/sum(tmp) for x in tmp]\n",
    "    plt.plot(range(NumberOfEnergyLevels), Distribution, label=f\"T={round(1/b)}\")\n",
    "    Distribution = []\n",
    "    tmp = []\n",
    "\n",
    "plt.title(\"Boltzmann Distribution\",fontsize=25)\n",
    "plt.xlabel('Energy Levels',fontsize=20)\n",
    "plt.ylabel('Distribution',fontsize=20)\n",
    "plt.xlim([0, 35])\n",
    "plt.ylim([0, 0.4])\n",
    "plt.legend(loc='best', frameon=True,fontsize=20)\n",
    "fig.show()\n",
    "fig.savefig('../Images/boltzman_deg', dpi=300)"
   ]
  },
  {
   "cell_type": "code",
   "execution_count": null,
   "id": "34917c74",
   "metadata": {},
   "outputs": [],
   "source": [
    "NumberOfEnergyLevels = int(input(\"NumberOfEnergyLevels ?\"))\n",
    "\n",
    "Temperature = [0.1, 1, 10, 100, 1000, 10000, 100000]\n",
    "\n",
    "Beta = [1/x for x in Temperature]\n",
    "tmp = []\n",
    "\n",
    "fig = plt.figure(figsize=(10,10))\n",
    "\n",
    "for b in Beta[:]:\n",
    "    for i in range(NumberOfEnergyLevels):\n",
    "        tmp.append((2*i+1)*np.exp(-b*(0.5*i*(i+1))))\n",
    "    Distribution = [x/sum(tmp) for x in tmp]\n",
    "    plt.plot(range(NumberOfEnergyLevels), Distribution, label=f\"T={round(1/b)}\")\n",
    "    Distribution = []\n",
    "    tmp = []\n",
    "\n",
    "plt.title(\"Boltzmann Distribution\",fontsize=25)\n",
    "plt.xlabel('Energy Levels',fontsize=20)\n",
    "plt.ylabel('Distribution',fontsize=20)\n",
    "plt.xlim([0, 35])\n",
    "plt.ylim([0, 0.4])\n",
    "plt.legend(loc='best', frameon=True,fontsize=20)\n",
    "fig.show()\n",
    "fig.savefig('../Images/boltzman_rotor', dpi=300)"
   ]
  },
  {
   "cell_type": "markdown",
   "id": "c5078f9c",
   "metadata": {},
   "source": [
    "## Comparison with approximate results"
   ]
  },
  {
   "cell_type": "code",
   "execution_count": null,
   "id": "9dfb85e1",
   "metadata": {},
   "outputs": [],
   "source": [
    "Temp=100\n",
    "q = 2*Beta*1.38064852\n",
    "q"
   ]
  },
  {
   "cell_type": "markdown",
   "id": "c5d4ad8c",
   "metadata": {},
   "source": [
    "# Coupled harmonic oscillators"
   ]
  },
  {
   "cell_type": "code",
   "execution_count": null,
   "id": "61c7cd2e",
   "metadata": {},
   "outputs": [],
   "source": [
    "%reset\n",
    "\n",
    "import pandas as pd\n",
    "import numpy as np\n",
    "import matplotlib.pyplot as plt\n",
    "import random\n",
    "import math\n",
    "\n",
    "MAX_NUMBER_OF_OSCILLATORS = 10000\n",
    "MAX_ENERGY = 100000\n",
    "CycleMultiplication = 1000\n",
    "\n",
    "TotalEnergy=0\n",
    "Beta=0.0\n",
    "\n",
    "NumberOfCycles = int(input(\"Number of Cycles? \"))\n",
    "if NumberOfCycles < 3:\n",
    "    print(\"Number of Cycles must > 3\")\n",
    "\n",
    "Choice = int(input(\"NVE Ensemble (1) or NPT Ensemble (0) ?\"))\n",
    "\n",
    "if Choice:\n",
    "    TotalEnergy = int(input(\"Total Energy? \"))\n",
    "    TotalOscillators = [4, 8, 10, 15, 25, 40, 50, 100]\n",
    "    #NumberOfOscillators = int(input(\"Number of Oscillators? \"))\n",
    "else:\n",
    "    Beta = int(input(\"Beta? \"))\n",
    "    NumberOfOscillators = 1\n",
    "    \n",
    "    \n",
    "fig = plt.figure(figsize=(10,10))\n",
    "\n",
    "    \n",
    "for NumberOfOscillators in TotalOscillators[:]:\n",
    "    Oscillator = np.zeros(MAX_NUMBER_OF_OSCILLATORS)\n",
    "    Distribution = np.zeros(MAX_ENERGY)\n",
    "    \n",
    "    Ninit=NumberOfCycles/2\n",
    "    Sum=0.0\n",
    "    Count=0.0\n",
    "    Normalization=0.0\n",
    "    Utot=0;\n",
    "    \n",
    "    if Choice:\n",
    "        i=0\n",
    "        while Utot != TotalEnergy:\n",
    "            if i>=NumberOfOscillators:\n",
    "                i=0\n",
    "            Oscillator[i]+=1\n",
    "            i+=1\n",
    "            Utot+=1\n",
    "            \n",
    "    Utot=0\n",
    "    Utot=sum(Oscillator)\n",
    "    \n",
    "    print(\"Initial energy : {}\\n\".format(Utot))\n",
    "    \n",
    "    for i in range(NumberOfCycles):\n",
    "        for j in range(CycleMultiplication):\n",
    "            for k in range(NumberOfOscillators):\n",
    "                if Choice:\n",
    "                    OscA = int(random.random()*NumberOfOscillators)\n",
    "                    OscB = int(random.random()*NumberOfOscillators)\n",
    "                    while OscA == OscB:\n",
    "                        OscA = int(random.random()*NumberOfOscillators)\n",
    "                        OscB = int(random.random()*NumberOfOscillators)\n",
    "                    if random.random() < 0.5:\n",
    "                        A = 1\n",
    "                        B = -1\n",
    "                    else:\n",
    "                        A = -1\n",
    "                        B = 1\n",
    "                    if min(Oscillator[OscA]+A,Oscillator[OscB]+B) >= 0:\n",
    "                        Oscillator[OscA]+=A\n",
    "                        Oscillator[OscB]+=B\n",
    "                    break\n",
    "                else:\n",
    "                    if random.random() < 0.5:\n",
    "                        A=1\n",
    "                    else:\n",
    "                        A=-1\n",
    "                    if Oscillator[0]+A >= 0 and random.random() < np.exp(-Beta*A):\n",
    "                        Oscillator[0]+=A\n",
    "                    break\n",
    "            if i > Ninit:\n",
    "                Distribution[int(Oscillator[0])]+=1.0\n",
    "                Normalization+=1.0\n",
    "                Sum+=Oscillator[0]\n",
    "                Count+=1.0\n",
    "            \n",
    "    Utot=0            \n",
    "    Utot = sum(Oscillator)\n",
    "    \n",
    "    print(\"Final Energy: {}\\n\".format(Utot))\n",
    "    print(\"Average Energy First Oscillator 1: {}\\n\".format(Sum/Count))\n",
    "    \n",
    "    distr = [x/Normalization for x in Distribution]\n",
    "    plt.plot(range(MAX_ENERGY), distr, label=f\"Oscillators={NumberOfOscillators}\")\n",
    "\n",
    "plt.title(\"Energy distribution over the harmonic oscillators\",fontsize=20)\n",
    "plt.xlabel('Energy Levels',fontsize=20)\n",
    "plt.ylabel('Ocupation',fontsize=20)\n",
    "plt.xlim([0, 40])\n",
    "plt.ylim([0, 0.5])\n",
    "plt.legend(loc='best', frameon=True,fontsize=20)\n",
    "fig.show()\n",
    "fig.savefig('../Images/harmonic_dis', dpi=300)\n"
   ]
  },
  {
   "cell_type": "code",
   "execution_count": null,
   "id": "3ebb0d1a",
   "metadata": {},
   "outputs": [],
   "source": [
    "%reset\n",
    "\n",
    "import pandas as pd\n",
    "import numpy as np\n",
    "import matplotlib.pyplot as plt\n",
    "import random\n",
    "import math\n",
    "\n",
    "MAX_NUMBER_OF_OSCILLATORS = 10000\n",
    "MAX_ENERGY = 100000\n",
    "CycleMultiplication = 1000\n",
    "\n",
    "TotalEnergy=0\n",
    "Beta=0.0\n",
    "\n",
    "NumberOfCycles = 1000\n",
    "\n",
    "TotalChoice = [1,0]\n",
    "\n",
    "fig = plt.figure(figsize=(10,10))\n",
    "\n",
    "for Choice in TotalChoice:\n",
    "\n",
    "    if Choice:\n",
    "        TotalEnergy = 100\n",
    "        NumberOfOscillators = 50\n",
    "    else:\n",
    "        Beta = 0.5\n",
    "        NumberOfOscillators = 1\n",
    "        TotalEnergy=0\n",
    "            \n",
    "    Oscillator = np.zeros(MAX_NUMBER_OF_OSCILLATORS)\n",
    "    Distribution = np.zeros(MAX_ENERGY)\n",
    "    \n",
    "    Ninit=NumberOfCycles/2\n",
    "    Sum=0.0\n",
    "    Count=0.0\n",
    "    Normalization=0.0\n",
    "    Utot=0;\n",
    "    \n",
    "    if Choice:\n",
    "        i=0\n",
    "        while Utot != TotalEnergy:\n",
    "            if i>=NumberOfOscillators:\n",
    "                i=0\n",
    "            Oscillator[i]+=1\n",
    "            i+=1\n",
    "            Utot+=1\n",
    "            \n",
    "    Utot=0\n",
    "    Utot=sum(Oscillator)\n",
    "    \n",
    "    print(\"Initial energy : {}\\n\".format(Utot))\n",
    "    \n",
    "    for i in range(NumberOfCycles):\n",
    "        for j in range(CycleMultiplication):\n",
    "            for k in range(NumberOfOscillators):\n",
    "                if Choice:\n",
    "                    OscA = int(random.random()*NumberOfOscillators)\n",
    "                    OscB = int(random.random()*NumberOfOscillators)\n",
    "                    while OscA == OscB:\n",
    "                        OscA = int(random.random()*NumberOfOscillators)\n",
    "                        OscB = int(random.random()*NumberOfOscillators)\n",
    "                    if random.random() < 0.5:\n",
    "                        A = 1\n",
    "                        B = -1\n",
    "                    else:\n",
    "                        A = -1\n",
    "                        B = 1\n",
    "                    if min(Oscillator[OscA]+A,Oscillator[OscB]+B) >= 0:\n",
    "                        Oscillator[OscA]+=A\n",
    "                        Oscillator[OscB]+=B\n",
    "                    break\n",
    "                else:\n",
    "                    if random.random() < 0.5:\n",
    "                        A=1\n",
    "                    else:\n",
    "                        A=-1\n",
    "                    if Oscillator[0]+A >= 0 and random.random() < np.exp(-Beta*A):\n",
    "                        Oscillator[0]+=A\n",
    "                    break\n",
    "            if i > Ninit:\n",
    "                Distribution[int(Oscillator[0])]+=1.0\n",
    "                Normalization+=1.0\n",
    "                Sum+=Oscillator[0]\n",
    "                Count+=1.0\n",
    "            \n",
    "    Utot=0            \n",
    "    Utot = sum(Oscillator)\n",
    "    \n",
    "    print(\"Final Energy: {}\\n\".format(Utot))\n",
    "    print(\"Average Energy First Oscillator 1: {}\\n\".format(Sum/Count))\n",
    "    \n",
    "    distr = [x/Normalization for x in Distribution]\n",
    "    if Choice:\n",
    "        plt.plot(range(MAX_ENERGY), distr, label=f\"NVE (Energy={TotalEnergy})\")\n",
    "    else:\n",
    "        plt.plot(range(MAX_ENERGY), distr, label=f\"NVT (Beta={Beta})\")\n",
    "\n",
    "plt.title(\"Energy distribution over the harmonic oscillators for NVE & NVT ensemble\",fontsize=20)\n",
    "plt.xlabel('Energy Levels',fontsize=20)\n",
    "plt.ylabel('Ocupation',fontsize=20)\n",
    "plt.xlim([0, 40])\n",
    "plt.ylim([0, 0.5])\n",
    "plt.legend(loc='best', frameon=True,fontsize=20)\n",
    "fig.show()\n",
    "fig.savefig('../Images/NVT', dpi=300)"
   ]
  },
  {
   "cell_type": "markdown",
   "id": "e7172c4c",
   "metadata": {},
   "source": [
    "# Random Walk on a 1D lattice"
   ]
  },
  {
   "cell_type": "code",
   "execution_count": null,
   "id": "7e3054ba",
   "metadata": {},
   "outputs": [],
   "source": [
    "MAX_LATTICE = 1000\n",
    "CycleMultiplication = 100\n",
    "\n",
    "NumberOfCycles = 100\n",
    "\n",
    "NumberOfJumps = int(input(\"Number of Jumps/Cycle ? \"))\n",
    "\n",
    "Distribution = np.zeros(2*NumberOfJumps+1)\n",
    "Normalization = 0\n",
    "\n",
    "for i in range(NumberOfCycles):\n",
    "    for j in range(CycleMultiplication):\n",
    "        CurrentPosition=0\n",
    "        for k in range(NumberOfJumps):\n",
    "            if random.random() < 0.5:\n",
    "                CurrentPosition+=1\n",
    "            else:\n",
    "                CurrentPosition-=1\n",
    "        Distribution[CurrentPosition+NumberOfJumps]+=1\n",
    "        Normalization+=1.0\n",
    "            \n",
    "distr = [x/Normalization for x in Distribution] \n",
    "\n",
    "n_range = np.linspace(-MAX_LATTICE,MAX_LATTICE,MAX_LATTICE*2+1)\n",
    "n_2_range = np.linspace(-NumberOfJumps,NumberOfJumps,NumberOfJumps*2+1)\n",
    "\n",
    "theoritical = 0.5*np.exp(0.5*np.log(2/(NumberOfJumps*np.pi)) - ((n_range**2)/(2*NumberOfJumps)))\n",
    "\n",
    "fig = plt.figure(figsize=(10,10))\n",
    "\n",
    "plt.plot(n_2_range, distr, label=f\"Random walk\")\n",
    "plt.plot(n_range, theoritical, label=f\"Analytical\")\n",
    "\n",
    "plt.title(\"Position distribution [1D random walk]\",fontsize=20)\n",
    "plt.xlabel('Position relative to origin',fontsize=20)\n",
    "plt.ylabel('Probability densitiy',fontsize=20)\n",
    "plt.xlim([-(NumberOfJumps+10), NumberOfJumps+10])\n",
    "plt.ylim([0, 0.4])\n",
    "plt.legend(loc='best', frameon=True,fontsize=20)\n",
    "fig.show()\n",
    "fig.savefig('../Images/1D', dpi=300)"
   ]
  },
  {
   "cell_type": "code",
   "execution_count": null,
   "id": "51e93632",
   "metadata": {},
   "outputs": [],
   "source": [
    "Distribution = np.zeros(2*NumberOfJumps+1)"
   ]
  },
  {
   "cell_type": "code",
   "execution_count": null,
   "id": "4fb54c14",
   "metadata": {},
   "outputs": [],
   "source": [
    "len(Distribution[:10+NumberOfJumps])"
   ]
  },
  {
   "cell_type": "code",
   "execution_count": null,
   "id": "f35cc7c3",
   "metadata": {},
   "outputs": [],
   "source": []
  },
  {
   "cell_type": "code",
   "execution_count": null,
   "id": "f1543866",
   "metadata": {},
   "outputs": [],
   "source": [
    "n_range = np.linspace(-NumberOfJumps,NumberOfJumps,NumberOfJumps*2+1)\n",
    "theoritical = []\n",
    "for i in range(-MAX_LATTICE,0):\n",
    "    theoritical.append(np.exp(0.5*np.log(2/(NumberOfJumps*np.pi)) - ((n_range**2)/(2*NumberOfJumps))))\n",
    "for i in range(MAX_LATTICE):\n",
    "    theoritical.append(np.exp(0.5*np.log(2/(NumberOfJumps*np.pi)) - ((n_range**2)/(2*NumberOfJumps))))"
   ]
  },
  {
   "cell_type": "code",
   "execution_count": null,
   "id": "d18197f9",
   "metadata": {},
   "outputs": [],
   "source": [
    "theoritical = []\n",
    "\n",
    "for i in np.linspace(-10,10,10*2+1):\n",
    "    print(i)\n",
    "    theoritical.append(0.5*np.exp(0.5*np.log(2/(NumberOfJumps*np.pi)) - ((i**2)/(2*NumberOfJumps))))"
   ]
  },
  {
   "cell_type": "code",
   "execution_count": null,
   "id": "acf233bb",
   "metadata": {},
   "outputs": [],
   "source": [
    "sum(theoritical)"
   ]
  },
  {
   "cell_type": "code",
   "execution_count": null,
   "id": "2a3c692c",
   "metadata": {},
   "outputs": [],
   "source": [
    "range(-MAX_LATTICE,0)"
   ]
  },
  {
   "cell_type": "code",
   "execution_count": null,
   "id": "e1474ae2",
   "metadata": {},
   "outputs": [],
   "source": [
    "theoritical"
   ]
  },
  {
   "cell_type": "code",
   "execution_count": null,
   "id": "78d7f3f5",
   "metadata": {},
   "outputs": [],
   "source": [
    "\n",
    "sum([0.010285,\n",
    "0.041707,\n",
    "0.113372,\n",
    "0.206577,\n",
    "0.252313,\n",
    "0.206577,\n",
    "0.113372,\n",
    "0.041707,\n",
    "0.010285,\n",
    "0.001700])\n"
   ]
  },
  {
   "cell_type": "code",
   "execution_count": null,
   "id": "f45018e9",
   "metadata": {},
   "outputs": [],
   "source": [
    "n_range = np.linspace(-MAX_LATTICE,MAX_LATTICE,MAX_LATTICE*2+1)\n",
    "theoritical = np.exp(0.5*np.log(2/(NumberOfJumps*np.pi)) - ((n_range**2)/(2*NumberOfJumps)))"
   ]
  },
  {
   "cell_type": "code",
   "execution_count": null,
   "id": "34dea664",
   "metadata": {},
   "outputs": [],
   "source": [
    "distr[MAX_LATTICE-5:MAX_LATTICE+5]"
   ]
  },
  {
   "cell_type": "code",
   "execution_count": null,
   "id": "70fffd0b",
   "metadata": {},
   "outputs": [],
   "source": [
    "for i in n_range:\n",
    "    if i == 0:\n",
    "        print\n",
    "        print('yes')"
   ]
  },
  {
   "cell_type": "code",
   "execution_count": null,
   "id": "0fbe6a41",
   "metadata": {},
   "outputs": [],
   "source": [
    "sum(theoritical)"
   ]
  },
  {
   "cell_type": "code",
   "execution_count": null,
   "id": "12f75b94",
   "metadata": {},
   "outputs": [],
   "source": [
    "n_range = np.linspace(-MAX_LATTICE,MAX_LATTICE,MAX_LATTICE*2+1)\n",
    "theoritical = np.exp(0.5*np.log(2/(NumberOfJumps*np.pi)) - (n_range**2/(2*NumberOfJumps)))"
   ]
  },
  {
   "cell_type": "code",
   "execution_count": null,
   "id": "a19d826f",
   "metadata": {},
   "outputs": [],
   "source": [
    "theoritical[MAX_LATTICE-10:MAX_LATTICE+10]"
   ]
  },
  {
   "cell_type": "code",
   "execution_count": null,
   "id": "0d48b457",
   "metadata": {},
   "outputs": [],
   "source": [
    "n_range"
   ]
  },
  {
   "cell_type": "code",
   "execution_count": null,
   "id": "b3c4a599",
   "metadata": {},
   "outputs": [],
   "source": [
    "plt.plot(n_range,theoritical)\n",
    "plt.xlim([-100, 100])\n"
   ]
  },
  {
   "cell_type": "code",
   "execution_count": null,
   "id": "f12eeee8",
   "metadata": {},
   "outputs": [],
   "source": [
    "plt.plot([-1,-2,1,2], [-1,-2,1,2])"
   ]
  },
  {
   "cell_type": "code",
   "execution_count": null,
   "id": "b282c946",
   "metadata": {},
   "outputs": [],
   "source": [
    "MAX_LATTICE = 100000\n",
    "NumberOfJumps=10"
   ]
  },
  {
   "cell_type": "code",
   "execution_count": null,
   "id": "f083cd05",
   "metadata": {},
   "outputs": [],
   "source": [
    "np.linspace(-MAX_LATTICE,MAX_LATTICE,MAX_LATTICE*2+1)"
   ]
  },
  {
   "cell_type": "code",
   "execution_count": null,
   "id": "888d63e6",
   "metadata": {},
   "outputs": [],
   "source": []
  }
 ],
 "metadata": {
  "kernelspec": {
   "display_name": "Python 3",
   "language": "python",
   "name": "python3"
  },
  "language_info": {
   "codemirror_mode": {
    "name": "ipython",
    "version": 3
   },
   "file_extension": ".py",
   "mimetype": "text/x-python",
   "name": "python",
   "nbconvert_exporter": "python",
   "pygments_lexer": "ipython3",
   "version": "3.8.3"
  }
 },
 "nbformat": 4,
 "nbformat_minor": 5
}
